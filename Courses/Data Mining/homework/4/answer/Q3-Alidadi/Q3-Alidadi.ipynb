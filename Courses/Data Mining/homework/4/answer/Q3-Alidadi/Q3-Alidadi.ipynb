{
 "cells": [
  {
   "cell_type": "code",
   "execution_count": 1,
   "metadata": {},
   "outputs": [],
   "source": [
    "## part a:"
   ]
  },
  {
   "cell_type": "code",
   "execution_count": 2,
   "metadata": {},
   "outputs": [],
   "source": [
    "import pandas as pd\n",
    "import numpy as np\n",
    "from sklearn.impute import SimpleImputer\n",
    "from sklearn import preprocessing\n",
    "from sklearn.model_selection import train_test_split\n",
    "from sklearn.ensemble import RandomForestClassifier\n",
    "\n",
    "colnames=['Number of times pregnant.', 'Plasma glucose concentration a 2 hours in an oral glucose tolerance test.'\n",
    "          , 'Diastolic blood pressure (mm Hg).', 'Triceps skinfold thickness (mm).'\n",
    "          , '2-Hour serum insulin (mu U/ml).', 'Body mass index (weight in kg/(height in m)^2).'\n",
    "          , 'Diabetes pedigree function.', 'Age (years).', 'Class variable (0 or 1).'] \n",
    "\n",
    "df = pd.read_csv('Desktop/Diabetes.csv', names=colnames, header=None)\n",
    "\n",
    "df['Plasma glucose concentration a 2 hours in an oral glucose tolerance test.'] = df['Plasma glucose concentration a 2 hours in an oral glucose tolerance test.'].replace((0),np.NaN)\n",
    "df['Diastolic blood pressure (mm Hg).'] = df['Diastolic blood pressure (mm Hg).'].replace((0),np.NaN)\n",
    "df['Triceps skinfold thickness (mm).'] = df['Triceps skinfold thickness (mm).'].replace((0),np.NaN)\n",
    "df['2-Hour serum insulin (mu U/ml).'] = df['2-Hour serum insulin (mu U/ml).'].replace((0),np.NaN)\n",
    "df['Body mass index (weight in kg/(height in m)^2).'] = df['Body mass index (weight in kg/(height in m)^2).'].replace((0),np.NaN)\n",
    "\n",
    "mean_imput = SimpleImputer(missing_values=np.NaN, strategy='mean')\n",
    "\n",
    "df['Plasma glucose concentration a 2 hours in an oral glucose tolerance test.'] = mean_imput.fit_transform(df['Plasma glucose concentration a 2 hours in an oral glucose tolerance test.'].values.reshape(-1,1))[:,0]\n",
    "df['Diastolic blood pressure (mm Hg).'] = df['Diastolic blood pressure (mm Hg).'] = mean_imput.fit_transform(df['Diastolic blood pressure (mm Hg).'].values.reshape(-1,1))[:,0]\n",
    "df['Triceps skinfold thickness (mm).'] = mean_imput.fit_transform(df['Triceps skinfold thickness (mm).'].values.reshape(-1,1))[:,0]\n",
    "df['2-Hour serum insulin (mu U/ml).'] = mean_imput.fit_transform(df['2-Hour serum insulin (mu U/ml).'].values.reshape(-1,1))[:,0]\n",
    "df['Body mass index (weight in kg/(height in m)^2).'] = mean_imput.fit_transform(df['Body mass index (weight in kg/(height in m)^2).'].values.reshape(-1,1))[:,0]\n",
    "\n",
    "df_scaleN = preprocessing.normalize(df[['Number of times pregnant.', 'Plasma glucose concentration a 2 hours in an oral glucose tolerance test.'\n",
    "                                        , 'Diastolic blood pressure (mm Hg).', 'Triceps skinfold thickness (mm).'\n",
    "                                        , '2-Hour serum insulin (mu U/ml).', 'Body mass index (weight in kg/(height in m)^2).'\n",
    "                                        , 'Diabetes pedigree function.', 'Age (years).']])\n",
    "df_scaleN = pd.DataFrame(df_scaleN);\n",
    "df_scaleN['Class variable (0 or 1).'] = df['Class variable (0 or 1).']\n",
    "df_scaleN.columns = ['Number of times pregnant.', 'Plasma glucose concentration a 2 hours in an oral glucose tolerance test.'\n",
    "                     , 'Diastolic blood pressure (mm Hg).', 'Triceps skinfold thickness (mm).'\n",
    "                     , '2-Hour serum insulin (mu U/ml).', 'Body mass index (weight in kg/(height in m)^2).'\n",
    "                     , 'Diabetes pedigree function.', 'Age (years).', 'Class variable (0 or 1).'] \n",
    "\n",
    "y = df_scaleN['Class variable (0 or 1).']\n",
    "x = df_scaleN.drop(['Class variable (0 or 1).'], axis=1)\n",
    "\n",
    "x_train, x_test, y_train, y_test = train_test_split(x, y, test_size=0.2, random_state=2)"
   ]
  },
  {
   "cell_type": "code",
   "execution_count": 14,
   "metadata": {},
   "outputs": [],
   "source": [
    "model = RandomForestClassifier(criterion=\"entropy\", max_depth=12).fit(x_train, y_train)"
   ]
  },
  {
   "cell_type": "code",
   "execution_count": 19,
   "metadata": {},
   "outputs": [],
   "source": [
    "## part b:"
   ]
  },
  {
   "cell_type": "code",
   "execution_count": 15,
   "metadata": {},
   "outputs": [],
   "source": [
    "y_pred = model.predict(x_test)"
   ]
  },
  {
   "cell_type": "code",
   "execution_count": 20,
   "metadata": {},
   "outputs": [],
   "source": [
    "## part c:"
   ]
  },
  {
   "cell_type": "code",
   "execution_count": 21,
   "metadata": {},
   "outputs": [],
   "source": [
    "from sklearn.metrics import classification_report, confusion_matrix"
   ]
  },
  {
   "cell_type": "code",
   "execution_count": 24,
   "metadata": {},
   "outputs": [
    {
     "name": "stdout",
     "output_type": "stream",
     "text": [
      "[[95 14]\n",
      " [25 20]]\n"
     ]
    }
   ],
   "source": [
    "print(confusion_matrix(y_test, y_pred))"
   ]
  },
  {
   "cell_type": "code",
   "execution_count": 25,
   "metadata": {},
   "outputs": [],
   "source": [
    "## part d:"
   ]
  },
  {
   "cell_type": "code",
   "execution_count": 26,
   "metadata": {},
   "outputs": [
    {
     "name": "stdout",
     "output_type": "stream",
     "text": [
      "              precision    recall  f1-score   support\n",
      "\n",
      "           0       0.79      0.87      0.83       109\n",
      "           1       0.59      0.44      0.51        45\n",
      "\n",
      "    accuracy                           0.75       154\n",
      "   macro avg       0.69      0.66      0.67       154\n",
      "weighted avg       0.73      0.75      0.74       154\n",
      "\n"
     ]
    }
   ],
   "source": [
    "print(classification_report(y_test, y_pred))"
   ]
  }
 ],
 "metadata": {
  "kernelspec": {
   "display_name": "Python 3",
   "language": "python",
   "name": "python3"
  },
  "language_info": {
   "codemirror_mode": {
    "name": "ipython",
    "version": 3
   },
   "file_extension": ".py",
   "mimetype": "text/x-python",
   "name": "python",
   "nbconvert_exporter": "python",
   "pygments_lexer": "ipython3",
   "version": "3.8.5"
  }
 },
 "nbformat": 4,
 "nbformat_minor": 4
}
