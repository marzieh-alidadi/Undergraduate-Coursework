{
 "cells": [
  {
   "cell_type": "code",
   "execution_count": 1,
   "metadata": {},
   "outputs": [],
   "source": [
    "import pandas as pd\n",
    "import numpy as np"
   ]
  },
  {
   "cell_type": "code",
   "execution_count": 2,
   "metadata": {},
   "outputs": [],
   "source": [
    "## part a:"
   ]
  },
  {
   "cell_type": "code",
   "execution_count": 3,
   "metadata": {},
   "outputs": [],
   "source": [
    "colnames=['Number of times pregnant.', 'Plasma glucose concentration a 2 hours in an oral glucose tolerance test.'\n",
    "          , 'Diastolic blood pressure (mm Hg).', 'Triceps skinfold thickness (mm).'\n",
    "          , '2-Hour serum insulin (mu U/ml).', 'Body mass index (weight in kg/(height in m)^2).'\n",
    "          , 'Diabetes pedigree function.', 'Age (years).', 'Class variable (0 or 1).'] "
   ]
  },
  {
   "cell_type": "code",
   "execution_count": 4,
   "metadata": {},
   "outputs": [
    {
     "data": {
      "text/html": [
       "<div>\n",
       "<style scoped>\n",
       "    .dataframe tbody tr th:only-of-type {\n",
       "        vertical-align: middle;\n",
       "    }\n",
       "\n",
       "    .dataframe tbody tr th {\n",
       "        vertical-align: top;\n",
       "    }\n",
       "\n",
       "    .dataframe thead th {\n",
       "        text-align: right;\n",
       "    }\n",
       "</style>\n",
       "<table border=\"1\" class=\"dataframe\">\n",
       "  <thead>\n",
       "    <tr style=\"text-align: right;\">\n",
       "      <th></th>\n",
       "      <th>Number of times pregnant.</th>\n",
       "      <th>Plasma glucose concentration a 2 hours in an oral glucose tolerance test.</th>\n",
       "      <th>Diastolic blood pressure (mm Hg).</th>\n",
       "      <th>Triceps skinfold thickness (mm).</th>\n",
       "      <th>2-Hour serum insulin (mu U/ml).</th>\n",
       "      <th>Body mass index (weight in kg/(height in m)^2).</th>\n",
       "      <th>Diabetes pedigree function.</th>\n",
       "      <th>Age (years).</th>\n",
       "      <th>Class variable (0 or 1).</th>\n",
       "    </tr>\n",
       "  </thead>\n",
       "  <tbody>\n",
       "    <tr>\n",
       "      <th>0</th>\n",
       "      <td>6</td>\n",
       "      <td>148</td>\n",
       "      <td>72</td>\n",
       "      <td>35</td>\n",
       "      <td>0</td>\n",
       "      <td>33.6</td>\n",
       "      <td>0.627</td>\n",
       "      <td>50</td>\n",
       "      <td>1</td>\n",
       "    </tr>\n",
       "    <tr>\n",
       "      <th>1</th>\n",
       "      <td>1</td>\n",
       "      <td>85</td>\n",
       "      <td>66</td>\n",
       "      <td>29</td>\n",
       "      <td>0</td>\n",
       "      <td>26.6</td>\n",
       "      <td>0.351</td>\n",
       "      <td>31</td>\n",
       "      <td>0</td>\n",
       "    </tr>\n",
       "    <tr>\n",
       "      <th>2</th>\n",
       "      <td>8</td>\n",
       "      <td>183</td>\n",
       "      <td>64</td>\n",
       "      <td>0</td>\n",
       "      <td>0</td>\n",
       "      <td>23.3</td>\n",
       "      <td>0.672</td>\n",
       "      <td>32</td>\n",
       "      <td>1</td>\n",
       "    </tr>\n",
       "    <tr>\n",
       "      <th>3</th>\n",
       "      <td>1</td>\n",
       "      <td>89</td>\n",
       "      <td>66</td>\n",
       "      <td>23</td>\n",
       "      <td>94</td>\n",
       "      <td>28.1</td>\n",
       "      <td>0.167</td>\n",
       "      <td>21</td>\n",
       "      <td>0</td>\n",
       "    </tr>\n",
       "    <tr>\n",
       "      <th>4</th>\n",
       "      <td>0</td>\n",
       "      <td>137</td>\n",
       "      <td>40</td>\n",
       "      <td>35</td>\n",
       "      <td>168</td>\n",
       "      <td>43.1</td>\n",
       "      <td>2.288</td>\n",
       "      <td>33</td>\n",
       "      <td>1</td>\n",
       "    </tr>\n",
       "    <tr>\n",
       "      <th>...</th>\n",
       "      <td>...</td>\n",
       "      <td>...</td>\n",
       "      <td>...</td>\n",
       "      <td>...</td>\n",
       "      <td>...</td>\n",
       "      <td>...</td>\n",
       "      <td>...</td>\n",
       "      <td>...</td>\n",
       "      <td>...</td>\n",
       "    </tr>\n",
       "    <tr>\n",
       "      <th>763</th>\n",
       "      <td>10</td>\n",
       "      <td>101</td>\n",
       "      <td>76</td>\n",
       "      <td>48</td>\n",
       "      <td>180</td>\n",
       "      <td>32.9</td>\n",
       "      <td>0.171</td>\n",
       "      <td>63</td>\n",
       "      <td>0</td>\n",
       "    </tr>\n",
       "    <tr>\n",
       "      <th>764</th>\n",
       "      <td>2</td>\n",
       "      <td>122</td>\n",
       "      <td>70</td>\n",
       "      <td>27</td>\n",
       "      <td>0</td>\n",
       "      <td>36.8</td>\n",
       "      <td>0.340</td>\n",
       "      <td>27</td>\n",
       "      <td>0</td>\n",
       "    </tr>\n",
       "    <tr>\n",
       "      <th>765</th>\n",
       "      <td>5</td>\n",
       "      <td>121</td>\n",
       "      <td>72</td>\n",
       "      <td>23</td>\n",
       "      <td>112</td>\n",
       "      <td>26.2</td>\n",
       "      <td>0.245</td>\n",
       "      <td>30</td>\n",
       "      <td>0</td>\n",
       "    </tr>\n",
       "    <tr>\n",
       "      <th>766</th>\n",
       "      <td>1</td>\n",
       "      <td>126</td>\n",
       "      <td>60</td>\n",
       "      <td>0</td>\n",
       "      <td>0</td>\n",
       "      <td>30.1</td>\n",
       "      <td>0.349</td>\n",
       "      <td>47</td>\n",
       "      <td>1</td>\n",
       "    </tr>\n",
       "    <tr>\n",
       "      <th>767</th>\n",
       "      <td>1</td>\n",
       "      <td>93</td>\n",
       "      <td>70</td>\n",
       "      <td>31</td>\n",
       "      <td>0</td>\n",
       "      <td>30.4</td>\n",
       "      <td>0.315</td>\n",
       "      <td>23</td>\n",
       "      <td>0</td>\n",
       "    </tr>\n",
       "  </tbody>\n",
       "</table>\n",
       "<p>768 rows × 9 columns</p>\n",
       "</div>"
      ],
      "text/plain": [
       "     Number of times pregnant.  \\\n",
       "0                            6   \n",
       "1                            1   \n",
       "2                            8   \n",
       "3                            1   \n",
       "4                            0   \n",
       "..                         ...   \n",
       "763                         10   \n",
       "764                          2   \n",
       "765                          5   \n",
       "766                          1   \n",
       "767                          1   \n",
       "\n",
       "     Plasma glucose concentration a 2 hours in an oral glucose tolerance test.  \\\n",
       "0                                                  148                           \n",
       "1                                                   85                           \n",
       "2                                                  183                           \n",
       "3                                                   89                           \n",
       "4                                                  137                           \n",
       "..                                                 ...                           \n",
       "763                                                101                           \n",
       "764                                                122                           \n",
       "765                                                121                           \n",
       "766                                                126                           \n",
       "767                                                 93                           \n",
       "\n",
       "     Diastolic blood pressure (mm Hg).  Triceps skinfold thickness (mm).  \\\n",
       "0                                   72                                35   \n",
       "1                                   66                                29   \n",
       "2                                   64                                 0   \n",
       "3                                   66                                23   \n",
       "4                                   40                                35   \n",
       "..                                 ...                               ...   \n",
       "763                                 76                                48   \n",
       "764                                 70                                27   \n",
       "765                                 72                                23   \n",
       "766                                 60                                 0   \n",
       "767                                 70                                31   \n",
       "\n",
       "     2-Hour serum insulin (mu U/ml).  \\\n",
       "0                                  0   \n",
       "1                                  0   \n",
       "2                                  0   \n",
       "3                                 94   \n",
       "4                                168   \n",
       "..                               ...   \n",
       "763                              180   \n",
       "764                                0   \n",
       "765                              112   \n",
       "766                                0   \n",
       "767                                0   \n",
       "\n",
       "     Body mass index (weight in kg/(height in m)^2).  \\\n",
       "0                                               33.6   \n",
       "1                                               26.6   \n",
       "2                                               23.3   \n",
       "3                                               28.1   \n",
       "4                                               43.1   \n",
       "..                                               ...   \n",
       "763                                             32.9   \n",
       "764                                             36.8   \n",
       "765                                             26.2   \n",
       "766                                             30.1   \n",
       "767                                             30.4   \n",
       "\n",
       "     Diabetes pedigree function.  Age (years).  Class variable (0 or 1).  \n",
       "0                          0.627            50                         1  \n",
       "1                          0.351            31                         0  \n",
       "2                          0.672            32                         1  \n",
       "3                          0.167            21                         0  \n",
       "4                          2.288            33                         1  \n",
       "..                           ...           ...                       ...  \n",
       "763                        0.171            63                         0  \n",
       "764                        0.340            27                         0  \n",
       "765                        0.245            30                         0  \n",
       "766                        0.349            47                         1  \n",
       "767                        0.315            23                         0  \n",
       "\n",
       "[768 rows x 9 columns]"
      ]
     },
     "execution_count": 4,
     "metadata": {},
     "output_type": "execute_result"
    }
   ],
   "source": [
    "df = pd.read_csv('Desktop/Diabetes.csv', names=colnames, header=None)\n",
    "df"
   ]
  },
  {
   "cell_type": "code",
   "execution_count": 5,
   "metadata": {},
   "outputs": [],
   "source": [
    "## part b:"
   ]
  },
  {
   "cell_type": "code",
   "execution_count": 6,
   "metadata": {},
   "outputs": [],
   "source": [
    "## checking missing values and outliers:"
   ]
  },
  {
   "cell_type": "code",
   "execution_count": 7,
   "metadata": {},
   "outputs": [
    {
     "name": "stdout",
     "output_type": "stream",
     "text": [
      "<class 'pandas.core.frame.DataFrame'>\n",
      "RangeIndex: 768 entries, 0 to 767\n",
      "Data columns (total 9 columns):\n",
      " #   Column                                                                     Non-Null Count  Dtype  \n",
      "---  ------                                                                     --------------  -----  \n",
      " 0   Number of times pregnant.                                                  768 non-null    int64  \n",
      " 1   Plasma glucose concentration a 2 hours in an oral glucose tolerance test.  768 non-null    int64  \n",
      " 2   Diastolic blood pressure (mm Hg).                                          768 non-null    int64  \n",
      " 3   Triceps skinfold thickness (mm).                                           768 non-null    int64  \n",
      " 4   2-Hour serum insulin (mu U/ml).                                            768 non-null    int64  \n",
      " 5   Body mass index (weight in kg/(height in m)^2).                            768 non-null    float64\n",
      " 6   Diabetes pedigree function.                                                768 non-null    float64\n",
      " 7   Age (years).                                                               768 non-null    int64  \n",
      " 8   Class variable (0 or 1).                                                   768 non-null    int64  \n",
      "dtypes: float64(2), int64(7)\n",
      "memory usage: 54.1 KB\n"
     ]
    }
   ],
   "source": [
    "df.info()"
   ]
  },
  {
   "cell_type": "code",
   "execution_count": 8,
   "metadata": {},
   "outputs": [
    {
     "data": {
      "text/html": [
       "<div>\n",
       "<style scoped>\n",
       "    .dataframe tbody tr th:only-of-type {\n",
       "        vertical-align: middle;\n",
       "    }\n",
       "\n",
       "    .dataframe tbody tr th {\n",
       "        vertical-align: top;\n",
       "    }\n",
       "\n",
       "    .dataframe thead th {\n",
       "        text-align: right;\n",
       "    }\n",
       "</style>\n",
       "<table border=\"1\" class=\"dataframe\">\n",
       "  <thead>\n",
       "    <tr style=\"text-align: right;\">\n",
       "      <th></th>\n",
       "      <th>Number of times pregnant.</th>\n",
       "      <th>Plasma glucose concentration a 2 hours in an oral glucose tolerance test.</th>\n",
       "      <th>Diastolic blood pressure (mm Hg).</th>\n",
       "      <th>Triceps skinfold thickness (mm).</th>\n",
       "      <th>2-Hour serum insulin (mu U/ml).</th>\n",
       "      <th>Body mass index (weight in kg/(height in m)^2).</th>\n",
       "      <th>Diabetes pedigree function.</th>\n",
       "      <th>Age (years).</th>\n",
       "      <th>Class variable (0 or 1).</th>\n",
       "    </tr>\n",
       "  </thead>\n",
       "  <tbody>\n",
       "    <tr>\n",
       "      <th>min</th>\n",
       "      <td>0</td>\n",
       "      <td>0</td>\n",
       "      <td>0</td>\n",
       "      <td>0</td>\n",
       "      <td>0</td>\n",
       "      <td>0.0</td>\n",
       "      <td>0.078</td>\n",
       "      <td>21</td>\n",
       "      <td>0</td>\n",
       "    </tr>\n",
       "    <tr>\n",
       "      <th>max</th>\n",
       "      <td>17</td>\n",
       "      <td>199</td>\n",
       "      <td>122</td>\n",
       "      <td>99</td>\n",
       "      <td>846</td>\n",
       "      <td>67.1</td>\n",
       "      <td>2.420</td>\n",
       "      <td>81</td>\n",
       "      <td>1</td>\n",
       "    </tr>\n",
       "  </tbody>\n",
       "</table>\n",
       "</div>"
      ],
      "text/plain": [
       "     Number of times pregnant.  \\\n",
       "min                          0   \n",
       "max                         17   \n",
       "\n",
       "     Plasma glucose concentration a 2 hours in an oral glucose tolerance test.  \\\n",
       "min                                                  0                           \n",
       "max                                                199                           \n",
       "\n",
       "     Diastolic blood pressure (mm Hg).  Triceps skinfold thickness (mm).  \\\n",
       "min                                  0                                 0   \n",
       "max                                122                                99   \n",
       "\n",
       "     2-Hour serum insulin (mu U/ml).  \\\n",
       "min                                0   \n",
       "max                              846   \n",
       "\n",
       "     Body mass index (weight in kg/(height in m)^2).  \\\n",
       "min                                              0.0   \n",
       "max                                             67.1   \n",
       "\n",
       "     Diabetes pedigree function.  Age (years).  Class variable (0 or 1).  \n",
       "min                        0.078            21                         0  \n",
       "max                        2.420            81                         1  "
      ]
     },
     "execution_count": 8,
     "metadata": {},
     "output_type": "execute_result"
    }
   ],
   "source": [
    "def minMax(df):\n",
    "    return pd.Series(index=['min','max'],data=[df.min(),df.max()])\n",
    "df.apply(minMax)"
   ]
  },
  {
   "cell_type": "code",
   "execution_count": 9,
   "metadata": {},
   "outputs": [],
   "source": [
    "df['Plasma glucose concentration a 2 hours in an oral glucose tolerance test.'] = df['Plasma glucose concentration a 2 hours in an oral glucose tolerance test.'].replace((0),np.NaN)\n",
    "df['Diastolic blood pressure (mm Hg).'] = df['Diastolic blood pressure (mm Hg).'].replace((0),np.NaN)\n",
    "df['Triceps skinfold thickness (mm).'] = df['Triceps skinfold thickness (mm).'].replace((0),np.NaN)\n",
    "df['2-Hour serum insulin (mu U/ml).'] = df['2-Hour serum insulin (mu U/ml).'].replace((0),np.NaN)\n",
    "df['Body mass index (weight in kg/(height in m)^2).'] = df['Body mass index (weight in kg/(height in m)^2).'].replace((0),np.NaN)"
   ]
  },
  {
   "cell_type": "code",
   "execution_count": 10,
   "metadata": {},
   "outputs": [],
   "source": [
    "from sklearn.impute import SimpleImputer"
   ]
  },
  {
   "cell_type": "code",
   "execution_count": 11,
   "metadata": {},
   "outputs": [],
   "source": [
    "mean_imput = SimpleImputer(missing_values=np.NaN, strategy='mean')"
   ]
  },
  {
   "cell_type": "code",
   "execution_count": 12,
   "metadata": {},
   "outputs": [],
   "source": [
    "df['Plasma glucose concentration a 2 hours in an oral glucose tolerance test.'] = mean_imput.fit_transform(df['Plasma glucose concentration a 2 hours in an oral glucose tolerance test.'].values.reshape(-1,1))[:,0]\n",
    "df['Diastolic blood pressure (mm Hg).'] = df['Diastolic blood pressure (mm Hg).'] = mean_imput.fit_transform(df['Diastolic blood pressure (mm Hg).'].values.reshape(-1,1))[:,0]\n",
    "df['Triceps skinfold thickness (mm).'] = mean_imput.fit_transform(df['Triceps skinfold thickness (mm).'].values.reshape(-1,1))[:,0]\n",
    "df['2-Hour serum insulin (mu U/ml).'] = mean_imput.fit_transform(df['2-Hour serum insulin (mu U/ml).'].values.reshape(-1,1))[:,0]\n",
    "df['Body mass index (weight in kg/(height in m)^2).'] = mean_imput.fit_transform(df['Body mass index (weight in kg/(height in m)^2).'].values.reshape(-1,1))[:,0]"
   ]
  },
  {
   "cell_type": "code",
   "execution_count": 13,
   "metadata": {},
   "outputs": [
    {
     "data": {
      "text/html": [
       "<div>\n",
       "<style scoped>\n",
       "    .dataframe tbody tr th:only-of-type {\n",
       "        vertical-align: middle;\n",
       "    }\n",
       "\n",
       "    .dataframe tbody tr th {\n",
       "        vertical-align: top;\n",
       "    }\n",
       "\n",
       "    .dataframe thead th {\n",
       "        text-align: right;\n",
       "    }\n",
       "</style>\n",
       "<table border=\"1\" class=\"dataframe\">\n",
       "  <thead>\n",
       "    <tr style=\"text-align: right;\">\n",
       "      <th></th>\n",
       "      <th>Number of times pregnant.</th>\n",
       "      <th>Plasma glucose concentration a 2 hours in an oral glucose tolerance test.</th>\n",
       "      <th>Diastolic blood pressure (mm Hg).</th>\n",
       "      <th>Triceps skinfold thickness (mm).</th>\n",
       "      <th>2-Hour serum insulin (mu U/ml).</th>\n",
       "      <th>Body mass index (weight in kg/(height in m)^2).</th>\n",
       "      <th>Diabetes pedigree function.</th>\n",
       "      <th>Age (years).</th>\n",
       "      <th>Class variable (0 or 1).</th>\n",
       "    </tr>\n",
       "  </thead>\n",
       "  <tbody>\n",
       "    <tr>\n",
       "      <th>min</th>\n",
       "      <td>0</td>\n",
       "      <td>44.0</td>\n",
       "      <td>24.0</td>\n",
       "      <td>7.0</td>\n",
       "      <td>14.0</td>\n",
       "      <td>18.2</td>\n",
       "      <td>0.078</td>\n",
       "      <td>21</td>\n",
       "      <td>0</td>\n",
       "    </tr>\n",
       "    <tr>\n",
       "      <th>max</th>\n",
       "      <td>17</td>\n",
       "      <td>199.0</td>\n",
       "      <td>122.0</td>\n",
       "      <td>99.0</td>\n",
       "      <td>846.0</td>\n",
       "      <td>67.1</td>\n",
       "      <td>2.420</td>\n",
       "      <td>81</td>\n",
       "      <td>1</td>\n",
       "    </tr>\n",
       "  </tbody>\n",
       "</table>\n",
       "</div>"
      ],
      "text/plain": [
       "     Number of times pregnant.  \\\n",
       "min                          0   \n",
       "max                         17   \n",
       "\n",
       "     Plasma glucose concentration a 2 hours in an oral glucose tolerance test.  \\\n",
       "min                                               44.0                           \n",
       "max                                              199.0                           \n",
       "\n",
       "     Diastolic blood pressure (mm Hg).  Triceps skinfold thickness (mm).  \\\n",
       "min                               24.0                               7.0   \n",
       "max                              122.0                              99.0   \n",
       "\n",
       "     2-Hour serum insulin (mu U/ml).  \\\n",
       "min                             14.0   \n",
       "max                            846.0   \n",
       "\n",
       "     Body mass index (weight in kg/(height in m)^2).  \\\n",
       "min                                             18.2   \n",
       "max                                             67.1   \n",
       "\n",
       "     Diabetes pedigree function.  Age (years).  Class variable (0 or 1).  \n",
       "min                        0.078            21                         0  \n",
       "max                        2.420            81                         1  "
      ]
     },
     "execution_count": 13,
     "metadata": {},
     "output_type": "execute_result"
    }
   ],
   "source": [
    "def minMax(df):\n",
    "    return pd.Series(index=['min','max'],data=[df.min(),df.max()])\n",
    "df.apply(minMax)"
   ]
  },
  {
   "cell_type": "code",
   "execution_count": 14,
   "metadata": {},
   "outputs": [
    {
     "name": "stdout",
     "output_type": "stream",
     "text": [
      "<class 'pandas.core.frame.DataFrame'>\n",
      "RangeIndex: 768 entries, 0 to 767\n",
      "Data columns (total 9 columns):\n",
      " #   Column                                                                     Non-Null Count  Dtype  \n",
      "---  ------                                                                     --------------  -----  \n",
      " 0   Number of times pregnant.                                                  768 non-null    int64  \n",
      " 1   Plasma glucose concentration a 2 hours in an oral glucose tolerance test.  768 non-null    float64\n",
      " 2   Diastolic blood pressure (mm Hg).                                          768 non-null    float64\n",
      " 3   Triceps skinfold thickness (mm).                                           768 non-null    float64\n",
      " 4   2-Hour serum insulin (mu U/ml).                                            768 non-null    float64\n",
      " 5   Body mass index (weight in kg/(height in m)^2).                            768 non-null    float64\n",
      " 6   Diabetes pedigree function.                                                768 non-null    float64\n",
      " 7   Age (years).                                                               768 non-null    int64  \n",
      " 8   Class variable (0 or 1).                                                   768 non-null    int64  \n",
      "dtypes: float64(6), int64(3)\n",
      "memory usage: 54.1 KB\n"
     ]
    }
   ],
   "source": [
    "df.info()"
   ]
  },
  {
   "cell_type": "code",
   "execution_count": 15,
   "metadata": {},
   "outputs": [],
   "source": [
    "## normalizing integer values:"
   ]
  },
  {
   "cell_type": "code",
   "execution_count": 16,
   "metadata": {},
   "outputs": [],
   "source": [
    "from sklearn import preprocessing"
   ]
  },
  {
   "cell_type": "code",
   "execution_count": 17,
   "metadata": {},
   "outputs": [
    {
     "data": {
      "text/html": [
       "<div>\n",
       "<style scoped>\n",
       "    .dataframe tbody tr th:only-of-type {\n",
       "        vertical-align: middle;\n",
       "    }\n",
       "\n",
       "    .dataframe tbody tr th {\n",
       "        vertical-align: top;\n",
       "    }\n",
       "\n",
       "    .dataframe thead th {\n",
       "        text-align: right;\n",
       "    }\n",
       "</style>\n",
       "<table border=\"1\" class=\"dataframe\">\n",
       "  <thead>\n",
       "    <tr style=\"text-align: right;\">\n",
       "      <th></th>\n",
       "      <th>Number of times pregnant.</th>\n",
       "      <th>Plasma glucose concentration a 2 hours in an oral glucose tolerance test.</th>\n",
       "      <th>Diastolic blood pressure (mm Hg).</th>\n",
       "      <th>Triceps skinfold thickness (mm).</th>\n",
       "      <th>2-Hour serum insulin (mu U/ml).</th>\n",
       "      <th>Body mass index (weight in kg/(height in m)^2).</th>\n",
       "      <th>Diabetes pedigree function.</th>\n",
       "      <th>Age (years).</th>\n",
       "      <th>Class variable (0 or 1).</th>\n",
       "    </tr>\n",
       "  </thead>\n",
       "  <tbody>\n",
       "    <tr>\n",
       "      <th>0</th>\n",
       "      <td>0.025315</td>\n",
       "      <td>0.624447</td>\n",
       "      <td>0.303785</td>\n",
       "      <td>0.147673</td>\n",
       "      <td>0.656295</td>\n",
       "      <td>0.141766</td>\n",
       "      <td>0.002645</td>\n",
       "      <td>0.210962</td>\n",
       "      <td>1</td>\n",
       "    </tr>\n",
       "    <tr>\n",
       "      <th>1</th>\n",
       "      <td>0.005111</td>\n",
       "      <td>0.434404</td>\n",
       "      <td>0.337302</td>\n",
       "      <td>0.148208</td>\n",
       "      <td>0.794950</td>\n",
       "      <td>0.135943</td>\n",
       "      <td>0.001794</td>\n",
       "      <td>0.158430</td>\n",
       "      <td>0</td>\n",
       "    </tr>\n",
       "    <tr>\n",
       "      <th>2</th>\n",
       "      <td>0.031558</td>\n",
       "      <td>0.721898</td>\n",
       "      <td>0.252467</td>\n",
       "      <td>0.115004</td>\n",
       "      <td>0.613606</td>\n",
       "      <td>0.091914</td>\n",
       "      <td>0.002651</td>\n",
       "      <td>0.126233</td>\n",
       "      <td>1</td>\n",
       "    </tr>\n",
       "    <tr>\n",
       "      <th>3</th>\n",
       "      <td>0.006612</td>\n",
       "      <td>0.588467</td>\n",
       "      <td>0.436392</td>\n",
       "      <td>0.152076</td>\n",
       "      <td>0.621527</td>\n",
       "      <td>0.185797</td>\n",
       "      <td>0.001104</td>\n",
       "      <td>0.138852</td>\n",
       "      <td>0</td>\n",
       "    </tr>\n",
       "    <tr>\n",
       "      <th>4</th>\n",
       "      <td>0.000000</td>\n",
       "      <td>0.596386</td>\n",
       "      <td>0.174127</td>\n",
       "      <td>0.152361</td>\n",
       "      <td>0.731335</td>\n",
       "      <td>0.187622</td>\n",
       "      <td>0.009960</td>\n",
       "      <td>0.143655</td>\n",
       "      <td>1</td>\n",
       "    </tr>\n",
       "    <tr>\n",
       "      <th>...</th>\n",
       "      <td>...</td>\n",
       "      <td>...</td>\n",
       "      <td>...</td>\n",
       "      <td>...</td>\n",
       "      <td>...</td>\n",
       "      <td>...</td>\n",
       "      <td>...</td>\n",
       "      <td>...</td>\n",
       "      <td>...</td>\n",
       "    </tr>\n",
       "    <tr>\n",
       "      <th>763</th>\n",
       "      <td>0.042321</td>\n",
       "      <td>0.427443</td>\n",
       "      <td>0.321640</td>\n",
       "      <td>0.203141</td>\n",
       "      <td>0.761779</td>\n",
       "      <td>0.139236</td>\n",
       "      <td>0.000724</td>\n",
       "      <td>0.266623</td>\n",
       "      <td>0</td>\n",
       "    </tr>\n",
       "    <tr>\n",
       "      <th>764</th>\n",
       "      <td>0.009245</td>\n",
       "      <td>0.563972</td>\n",
       "      <td>0.323590</td>\n",
       "      <td>0.124813</td>\n",
       "      <td>0.719056</td>\n",
       "      <td>0.170116</td>\n",
       "      <td>0.001572</td>\n",
       "      <td>0.124813</td>\n",
       "      <td>0</td>\n",
       "    </tr>\n",
       "    <tr>\n",
       "      <th>765</th>\n",
       "      <td>0.026915</td>\n",
       "      <td>0.651352</td>\n",
       "      <td>0.387582</td>\n",
       "      <td>0.123811</td>\n",
       "      <td>0.602905</td>\n",
       "      <td>0.141037</td>\n",
       "      <td>0.001319</td>\n",
       "      <td>0.161492</td>\n",
       "      <td>0</td>\n",
       "    </tr>\n",
       "    <tr>\n",
       "      <th>766</th>\n",
       "      <td>0.004582</td>\n",
       "      <td>0.577294</td>\n",
       "      <td>0.274902</td>\n",
       "      <td>0.133572</td>\n",
       "      <td>0.712675</td>\n",
       "      <td>0.137909</td>\n",
       "      <td>0.001599</td>\n",
       "      <td>0.215340</td>\n",
       "      <td>1</td>\n",
       "    </tr>\n",
       "    <tr>\n",
       "      <th>767</th>\n",
       "      <td>0.004990</td>\n",
       "      <td>0.464076</td>\n",
       "      <td>0.349304</td>\n",
       "      <td>0.154692</td>\n",
       "      <td>0.776195</td>\n",
       "      <td>0.151698</td>\n",
       "      <td>0.001572</td>\n",
       "      <td>0.114771</td>\n",
       "      <td>0</td>\n",
       "    </tr>\n",
       "  </tbody>\n",
       "</table>\n",
       "<p>768 rows × 9 columns</p>\n",
       "</div>"
      ],
      "text/plain": [
       "     Number of times pregnant.  \\\n",
       "0                     0.025315   \n",
       "1                     0.005111   \n",
       "2                     0.031558   \n",
       "3                     0.006612   \n",
       "4                     0.000000   \n",
       "..                         ...   \n",
       "763                   0.042321   \n",
       "764                   0.009245   \n",
       "765                   0.026915   \n",
       "766                   0.004582   \n",
       "767                   0.004990   \n",
       "\n",
       "     Plasma glucose concentration a 2 hours in an oral glucose tolerance test.  \\\n",
       "0                                             0.624447                           \n",
       "1                                             0.434404                           \n",
       "2                                             0.721898                           \n",
       "3                                             0.588467                           \n",
       "4                                             0.596386                           \n",
       "..                                                 ...                           \n",
       "763                                           0.427443                           \n",
       "764                                           0.563972                           \n",
       "765                                           0.651352                           \n",
       "766                                           0.577294                           \n",
       "767                                           0.464076                           \n",
       "\n",
       "     Diastolic blood pressure (mm Hg).  Triceps skinfold thickness (mm).  \\\n",
       "0                             0.303785                          0.147673   \n",
       "1                             0.337302                          0.148208   \n",
       "2                             0.252467                          0.115004   \n",
       "3                             0.436392                          0.152076   \n",
       "4                             0.174127                          0.152361   \n",
       "..                                 ...                               ...   \n",
       "763                           0.321640                          0.203141   \n",
       "764                           0.323590                          0.124813   \n",
       "765                           0.387582                          0.123811   \n",
       "766                           0.274902                          0.133572   \n",
       "767                           0.349304                          0.154692   \n",
       "\n",
       "     2-Hour serum insulin (mu U/ml).  \\\n",
       "0                           0.656295   \n",
       "1                           0.794950   \n",
       "2                           0.613606   \n",
       "3                           0.621527   \n",
       "4                           0.731335   \n",
       "..                               ...   \n",
       "763                         0.761779   \n",
       "764                         0.719056   \n",
       "765                         0.602905   \n",
       "766                         0.712675   \n",
       "767                         0.776195   \n",
       "\n",
       "     Body mass index (weight in kg/(height in m)^2).  \\\n",
       "0                                           0.141766   \n",
       "1                                           0.135943   \n",
       "2                                           0.091914   \n",
       "3                                           0.185797   \n",
       "4                                           0.187622   \n",
       "..                                               ...   \n",
       "763                                         0.139236   \n",
       "764                                         0.170116   \n",
       "765                                         0.141037   \n",
       "766                                         0.137909   \n",
       "767                                         0.151698   \n",
       "\n",
       "     Diabetes pedigree function.  Age (years).  Class variable (0 or 1).  \n",
       "0                       0.002645      0.210962                         1  \n",
       "1                       0.001794      0.158430                         0  \n",
       "2                       0.002651      0.126233                         1  \n",
       "3                       0.001104      0.138852                         0  \n",
       "4                       0.009960      0.143655                         1  \n",
       "..                           ...           ...                       ...  \n",
       "763                     0.000724      0.266623                         0  \n",
       "764                     0.001572      0.124813                         0  \n",
       "765                     0.001319      0.161492                         0  \n",
       "766                     0.001599      0.215340                         1  \n",
       "767                     0.001572      0.114771                         0  \n",
       "\n",
       "[768 rows x 9 columns]"
      ]
     },
     "execution_count": 17,
     "metadata": {},
     "output_type": "execute_result"
    }
   ],
   "source": [
    "df_scaleN = preprocessing.normalize(df[['Number of times pregnant.', 'Plasma glucose concentration a 2 hours in an oral glucose tolerance test.'\n",
    "                                        , 'Diastolic blood pressure (mm Hg).', 'Triceps skinfold thickness (mm).'\n",
    "                                        , '2-Hour serum insulin (mu U/ml).', 'Body mass index (weight in kg/(height in m)^2).'\n",
    "                                        , 'Diabetes pedigree function.', 'Age (years).']])\n",
    "df_scaleN = pd.DataFrame(df_scaleN);\n",
    "df_scaleN['Class variable (0 or 1).'] = df['Class variable (0 or 1).']\n",
    "df_scaleN.columns = ['Number of times pregnant.', 'Plasma glucose concentration a 2 hours in an oral glucose tolerance test.'\n",
    "                     , 'Diastolic blood pressure (mm Hg).', 'Triceps skinfold thickness (mm).'\n",
    "                     , '2-Hour serum insulin (mu U/ml).', 'Body mass index (weight in kg/(height in m)^2).'\n",
    "                     , 'Diabetes pedigree function.', 'Age (years).', 'Class variable (0 or 1).'] \n",
    "df_scaleN"
   ]
  },
  {
   "cell_type": "code",
   "execution_count": 18,
   "metadata": {},
   "outputs": [],
   "source": [
    "## part c:"
   ]
  },
  {
   "cell_type": "code",
   "execution_count": 19,
   "metadata": {},
   "outputs": [],
   "source": [
    "y = df_scaleN['Class variable (0 or 1).']"
   ]
  },
  {
   "cell_type": "code",
   "execution_count": 20,
   "metadata": {},
   "outputs": [],
   "source": [
    "x = df_scaleN.drop(['Class variable (0 or 1).'], axis=1)"
   ]
  },
  {
   "cell_type": "code",
   "execution_count": 21,
   "metadata": {},
   "outputs": [],
   "source": [
    "## part d:"
   ]
  },
  {
   "cell_type": "code",
   "execution_count": 22,
   "metadata": {},
   "outputs": [],
   "source": [
    "from sklearn.model_selection import train_test_split"
   ]
  },
  {
   "cell_type": "code",
   "execution_count": 23,
   "metadata": {},
   "outputs": [],
   "source": [
    "x_train, x_test, y_train, y_test = train_test_split(x, y, test_size=0.2, random_state=2)"
   ]
  },
  {
   "cell_type": "code",
   "execution_count": 24,
   "metadata": {},
   "outputs": [
    {
     "data": {
      "text/plain": [
       "0    391\n",
       "1    223\n",
       "Name: Class variable (0 or 1)., dtype: int64"
      ]
     },
     "execution_count": 24,
     "metadata": {},
     "output_type": "execute_result"
    }
   ],
   "source": [
    "y_train.value_counts()"
   ]
  },
  {
   "cell_type": "code",
   "execution_count": 25,
   "metadata": {},
   "outputs": [
    {
     "data": {
      "text/plain": [
       "0    109\n",
       "1     45\n",
       "Name: Class variable (0 or 1)., dtype: int64"
      ]
     },
     "execution_count": 25,
     "metadata": {},
     "output_type": "execute_result"
    }
   ],
   "source": [
    "y_test.value_counts()"
   ]
  },
  {
   "cell_type": "code",
   "execution_count": 26,
   "metadata": {},
   "outputs": [],
   "source": [
    "## part e:"
   ]
  },
  {
   "cell_type": "code",
   "execution_count": 32,
   "metadata": {},
   "outputs": [],
   "source": [
    "from sklearn.ensemble import RandomForestClassifier"
   ]
  },
  {
   "cell_type": "code",
   "execution_count": 33,
   "metadata": {},
   "outputs": [],
   "source": [
    "model = RandomForestClassifier(criterion=\"entropy\", max_depth=3).fit(x_train, y_train)"
   ]
  },
  {
   "cell_type": "code",
   "execution_count": 34,
   "metadata": {},
   "outputs": [],
   "source": [
    "## part f:"
   ]
  },
  {
   "cell_type": "code",
   "execution_count": 35,
   "metadata": {},
   "outputs": [],
   "source": [
    "y_pred = model.predict(x_test)"
   ]
  },
  {
   "cell_type": "code",
   "execution_count": 36,
   "metadata": {},
   "outputs": [],
   "source": [
    "from sklearn.metrics import classification_report, confusion_matrix"
   ]
  },
  {
   "cell_type": "code",
   "execution_count": 37,
   "metadata": {},
   "outputs": [
    {
     "name": "stdout",
     "output_type": "stream",
     "text": [
      "[[101   8]\n",
      " [ 37   8]]\n"
     ]
    }
   ],
   "source": [
    "print(confusion_matrix(y_test, y_pred))"
   ]
  },
  {
   "cell_type": "code",
   "execution_count": 38,
   "metadata": {},
   "outputs": [
    {
     "name": "stdout",
     "output_type": "stream",
     "text": [
      "              precision    recall  f1-score   support\n",
      "\n",
      "           0       0.73      0.93      0.82       109\n",
      "           1       0.50      0.18      0.26        45\n",
      "\n",
      "    accuracy                           0.71       154\n",
      "   macro avg       0.62      0.55      0.54       154\n",
      "weighted avg       0.66      0.71      0.66       154\n",
      "\n"
     ]
    }
   ],
   "source": [
    "print(classification_report(y_test, y_pred))"
   ]
  },
  {
   "cell_type": "code",
   "execution_count": 39,
   "metadata": {},
   "outputs": [],
   "source": [
    "## part g:"
   ]
  },
  {
   "cell_type": "code",
   "execution_count": 40,
   "metadata": {},
   "outputs": [],
   "source": [
    "## max_depth=2"
   ]
  },
  {
   "cell_type": "code",
   "execution_count": 41,
   "metadata": {},
   "outputs": [],
   "source": [
    "model1 = RandomForestClassifier(criterion=\"entropy\", max_depth=2).fit(x_train, y_train)"
   ]
  },
  {
   "cell_type": "code",
   "execution_count": 43,
   "metadata": {},
   "outputs": [],
   "source": [
    "y_pred1 = model1.predict(x_test)"
   ]
  },
  {
   "cell_type": "code",
   "execution_count": 44,
   "metadata": {},
   "outputs": [
    {
     "name": "stdout",
     "output_type": "stream",
     "text": [
      "[[109   0]\n",
      " [ 45   0]]\n"
     ]
    }
   ],
   "source": [
    "print(confusion_matrix(y_test, y_pred1))"
   ]
  },
  {
   "cell_type": "code",
   "execution_count": 62,
   "metadata": {},
   "outputs": [
    {
     "name": "stdout",
     "output_type": "stream",
     "text": [
      "              precision    recall  f1-score   support\n",
      "\n",
      "           0       0.71      1.00      0.83       109\n",
      "           1       0.00      0.00      0.00        45\n",
      "\n",
      "    accuracy                           0.71       154\n",
      "   macro avg       0.35      0.50      0.41       154\n",
      "weighted avg       0.50      0.71      0.59       154\n",
      "\n"
     ]
    },
    {
     "name": "stderr",
     "output_type": "stream",
     "text": [
      "C:\\Users\\Marzieh\\anaconda3\\lib\\site-packages\\sklearn\\metrics\\_classification.py:1245: UndefinedMetricWarning: Precision and F-score are ill-defined and being set to 0.0 in labels with no predicted samples. Use `zero_division` parameter to control this behavior.\n",
      "  _warn_prf(average, modifier, msg_start, len(result))\n",
      "C:\\Users\\Marzieh\\anaconda3\\lib\\site-packages\\sklearn\\metrics\\_classification.py:1245: UndefinedMetricWarning: Precision and F-score are ill-defined and being set to 0.0 in labels with no predicted samples. Use `zero_division` parameter to control this behavior.\n",
      "  _warn_prf(average, modifier, msg_start, len(result))\n",
      "C:\\Users\\Marzieh\\anaconda3\\lib\\site-packages\\sklearn\\metrics\\_classification.py:1245: UndefinedMetricWarning: Precision and F-score are ill-defined and being set to 0.0 in labels with no predicted samples. Use `zero_division` parameter to control this behavior.\n",
      "  _warn_prf(average, modifier, msg_start, len(result))\n"
     ]
    }
   ],
   "source": [
    "print(classification_report(y_test, y_pred1))"
   ]
  },
  {
   "cell_type": "code",
   "execution_count": 45,
   "metadata": {},
   "outputs": [],
   "source": [
    "## max_depth=1"
   ]
  },
  {
   "cell_type": "code",
   "execution_count": 46,
   "metadata": {},
   "outputs": [],
   "source": [
    "model2 = RandomForestClassifier(criterion=\"entropy\", max_depth=1).fit(x_train, y_train)"
   ]
  },
  {
   "cell_type": "code",
   "execution_count": 47,
   "metadata": {},
   "outputs": [],
   "source": [
    "y_pred2 = model2.predict(x_test)"
   ]
  },
  {
   "cell_type": "code",
   "execution_count": 48,
   "metadata": {},
   "outputs": [
    {
     "name": "stdout",
     "output_type": "stream",
     "text": [
      "[[109   0]\n",
      " [ 45   0]]\n"
     ]
    }
   ],
   "source": [
    "print(confusion_matrix(y_test, y_pred2))"
   ]
  },
  {
   "cell_type": "code",
   "execution_count": 63,
   "metadata": {},
   "outputs": [
    {
     "name": "stdout",
     "output_type": "stream",
     "text": [
      "              precision    recall  f1-score   support\n",
      "\n",
      "           0       0.71      1.00      0.83       109\n",
      "           1       0.00      0.00      0.00        45\n",
      "\n",
      "    accuracy                           0.71       154\n",
      "   macro avg       0.35      0.50      0.41       154\n",
      "weighted avg       0.50      0.71      0.59       154\n",
      "\n"
     ]
    },
    {
     "name": "stderr",
     "output_type": "stream",
     "text": [
      "C:\\Users\\Marzieh\\anaconda3\\lib\\site-packages\\sklearn\\metrics\\_classification.py:1245: UndefinedMetricWarning: Precision and F-score are ill-defined and being set to 0.0 in labels with no predicted samples. Use `zero_division` parameter to control this behavior.\n",
      "  _warn_prf(average, modifier, msg_start, len(result))\n",
      "C:\\Users\\Marzieh\\anaconda3\\lib\\site-packages\\sklearn\\metrics\\_classification.py:1245: UndefinedMetricWarning: Precision and F-score are ill-defined and being set to 0.0 in labels with no predicted samples. Use `zero_division` parameter to control this behavior.\n",
      "  _warn_prf(average, modifier, msg_start, len(result))\n",
      "C:\\Users\\Marzieh\\anaconda3\\lib\\site-packages\\sklearn\\metrics\\_classification.py:1245: UndefinedMetricWarning: Precision and F-score are ill-defined and being set to 0.0 in labels with no predicted samples. Use `zero_division` parameter to control this behavior.\n",
      "  _warn_prf(average, modifier, msg_start, len(result))\n"
     ]
    }
   ],
   "source": [
    "print(classification_report(y_test, y_pred2))"
   ]
  },
  {
   "cell_type": "code",
   "execution_count": 50,
   "metadata": {},
   "outputs": [],
   "source": [
    "## max_depth=4"
   ]
  },
  {
   "cell_type": "code",
   "execution_count": 51,
   "metadata": {},
   "outputs": [],
   "source": [
    "model3 = RandomForestClassifier(criterion=\"entropy\", max_depth=4).fit(x_train, y_train)"
   ]
  },
  {
   "cell_type": "code",
   "execution_count": 52,
   "metadata": {},
   "outputs": [],
   "source": [
    "y_pred3 = model3.predict(x_test)"
   ]
  },
  {
   "cell_type": "code",
   "execution_count": 53,
   "metadata": {},
   "outputs": [
    {
     "name": "stdout",
     "output_type": "stream",
     "text": [
      "[[98 11]\n",
      " [33 12]]\n"
     ]
    }
   ],
   "source": [
    "print(confusion_matrix(y_test, y_pred3))"
   ]
  },
  {
   "cell_type": "code",
   "execution_count": 65,
   "metadata": {},
   "outputs": [
    {
     "name": "stdout",
     "output_type": "stream",
     "text": [
      "              precision    recall  f1-score   support\n",
      "\n",
      "           0       0.75      0.90      0.82       109\n",
      "           1       0.52      0.27      0.35        45\n",
      "\n",
      "    accuracy                           0.71       154\n",
      "   macro avg       0.63      0.58      0.58       154\n",
      "weighted avg       0.68      0.71      0.68       154\n",
      "\n"
     ]
    }
   ],
   "source": [
    "print(classification_report(y_test, y_pred3))"
   ]
  },
  {
   "cell_type": "code",
   "execution_count": 54,
   "metadata": {},
   "outputs": [],
   "source": [
    "## max_depth=5"
   ]
  },
  {
   "cell_type": "code",
   "execution_count": 55,
   "metadata": {},
   "outputs": [],
   "source": [
    "model4 = RandomForestClassifier(criterion=\"entropy\", max_depth=5).fit(x_train, y_train)"
   ]
  },
  {
   "cell_type": "code",
   "execution_count": 56,
   "metadata": {},
   "outputs": [],
   "source": [
    "y_pred4 = model4.predict(x_test)"
   ]
  },
  {
   "cell_type": "code",
   "execution_count": 57,
   "metadata": {},
   "outputs": [
    {
     "name": "stdout",
     "output_type": "stream",
     "text": [
      "[[95 14]\n",
      " [30 15]]\n"
     ]
    }
   ],
   "source": [
    "print(confusion_matrix(y_test, y_pred4))"
   ]
  },
  {
   "cell_type": "code",
   "execution_count": 66,
   "metadata": {},
   "outputs": [
    {
     "name": "stdout",
     "output_type": "stream",
     "text": [
      "              precision    recall  f1-score   support\n",
      "\n",
      "           0       0.76      0.87      0.81       109\n",
      "           1       0.52      0.33      0.41        45\n",
      "\n",
      "    accuracy                           0.71       154\n",
      "   macro avg       0.64      0.60      0.61       154\n",
      "weighted avg       0.69      0.71      0.69       154\n",
      "\n"
     ]
    }
   ],
   "source": [
    "print(classification_report(y_test, y_pred4))"
   ]
  },
  {
   "cell_type": "code",
   "execution_count": 58,
   "metadata": {},
   "outputs": [],
   "source": [
    "## max_depth=6"
   ]
  },
  {
   "cell_type": "code",
   "execution_count": 59,
   "metadata": {},
   "outputs": [],
   "source": [
    "model5 = RandomForestClassifier(criterion=\"entropy\", max_depth=6).fit(x_train, y_train)"
   ]
  },
  {
   "cell_type": "code",
   "execution_count": 60,
   "metadata": {},
   "outputs": [],
   "source": [
    "y_pred5 = model5.predict(x_test)"
   ]
  },
  {
   "cell_type": "code",
   "execution_count": 61,
   "metadata": {},
   "outputs": [
    {
     "name": "stdout",
     "output_type": "stream",
     "text": [
      "[[94 15]\n",
      " [29 16]]\n"
     ]
    }
   ],
   "source": [
    "print(confusion_matrix(y_test, y_pred5))"
   ]
  },
  {
   "cell_type": "code",
   "execution_count": 68,
   "metadata": {},
   "outputs": [
    {
     "name": "stdout",
     "output_type": "stream",
     "text": [
      "              precision    recall  f1-score   support\n",
      "\n",
      "           0       0.76      0.86      0.81       109\n",
      "           1       0.52      0.36      0.42        45\n",
      "\n",
      "    accuracy                           0.71       154\n",
      "   macro avg       0.64      0.61      0.62       154\n",
      "weighted avg       0.69      0.71      0.70       154\n",
      "\n"
     ]
    }
   ],
   "source": [
    "print(classification_report(y_test, y_pred5))"
   ]
  },
  {
   "cell_type": "code",
   "execution_count": 69,
   "metadata": {},
   "outputs": [],
   "source": [
    "## max_depth=7"
   ]
  },
  {
   "cell_type": "code",
   "execution_count": 70,
   "metadata": {},
   "outputs": [],
   "source": [
    "model6 = RandomForestClassifier(criterion=\"entropy\", max_depth=7).fit(x_train, y_train)"
   ]
  },
  {
   "cell_type": "code",
   "execution_count": 71,
   "metadata": {},
   "outputs": [],
   "source": [
    "y_pred6 = model6.predict(x_test)"
   ]
  },
  {
   "cell_type": "code",
   "execution_count": 72,
   "metadata": {},
   "outputs": [
    {
     "name": "stdout",
     "output_type": "stream",
     "text": [
      "[[94 15]\n",
      " [27 18]]\n"
     ]
    }
   ],
   "source": [
    "print(confusion_matrix(y_test, y_pred6))"
   ]
  },
  {
   "cell_type": "code",
   "execution_count": 73,
   "metadata": {},
   "outputs": [
    {
     "name": "stdout",
     "output_type": "stream",
     "text": [
      "              precision    recall  f1-score   support\n",
      "\n",
      "           0       0.78      0.86      0.82       109\n",
      "           1       0.55      0.40      0.46        45\n",
      "\n",
      "    accuracy                           0.73       154\n",
      "   macro avg       0.66      0.63      0.64       154\n",
      "weighted avg       0.71      0.73      0.71       154\n",
      "\n"
     ]
    }
   ],
   "source": [
    "print(classification_report(y_test, y_pred6))"
   ]
  },
  {
   "cell_type": "code",
   "execution_count": 74,
   "metadata": {},
   "outputs": [],
   "source": [
    "## max_depth=10"
   ]
  },
  {
   "cell_type": "code",
   "execution_count": 75,
   "metadata": {},
   "outputs": [],
   "source": [
    "model7 = RandomForestClassifier(criterion=\"entropy\", max_depth=10).fit(x_train, y_train)"
   ]
  },
  {
   "cell_type": "code",
   "execution_count": 76,
   "metadata": {},
   "outputs": [],
   "source": [
    "y_pred7 = model7.predict(x_test)"
   ]
  },
  {
   "cell_type": "code",
   "execution_count": 77,
   "metadata": {},
   "outputs": [
    {
     "name": "stdout",
     "output_type": "stream",
     "text": [
      "[[93 16]\n",
      " [26 19]]\n"
     ]
    }
   ],
   "source": [
    "print(confusion_matrix(y_test, y_pred7))"
   ]
  },
  {
   "cell_type": "code",
   "execution_count": 78,
   "metadata": {},
   "outputs": [
    {
     "name": "stdout",
     "output_type": "stream",
     "text": [
      "              precision    recall  f1-score   support\n",
      "\n",
      "           0       0.78      0.85      0.82       109\n",
      "           1       0.54      0.42      0.48        45\n",
      "\n",
      "    accuracy                           0.73       154\n",
      "   macro avg       0.66      0.64      0.65       154\n",
      "weighted avg       0.71      0.73      0.72       154\n",
      "\n"
     ]
    }
   ],
   "source": [
    "print(classification_report(y_test, y_pred7))"
   ]
  },
  {
   "cell_type": "code",
   "execution_count": 113,
   "metadata": {},
   "outputs": [],
   "source": [
    "## max_depth=11"
   ]
  },
  {
   "cell_type": "code",
   "execution_count": 122,
   "metadata": {},
   "outputs": [],
   "source": [
    "model8 = RandomForestClassifier(criterion=\"entropy\", max_depth=11).fit(x_train, y_train)"
   ]
  },
  {
   "cell_type": "code",
   "execution_count": 123,
   "metadata": {},
   "outputs": [],
   "source": [
    "y_pred8 = model8.predict(x_test)"
   ]
  },
  {
   "cell_type": "code",
   "execution_count": 124,
   "metadata": {},
   "outputs": [
    {
     "name": "stdout",
     "output_type": "stream",
     "text": [
      "[[93 16]\n",
      " [25 20]]\n"
     ]
    }
   ],
   "source": [
    "print(confusion_matrix(y_test, y_pred8))"
   ]
  },
  {
   "cell_type": "code",
   "execution_count": 125,
   "metadata": {},
   "outputs": [
    {
     "name": "stdout",
     "output_type": "stream",
     "text": [
      "              precision    recall  f1-score   support\n",
      "\n",
      "           0       0.79      0.85      0.82       109\n",
      "           1       0.56      0.44      0.49        45\n",
      "\n",
      "    accuracy                           0.73       154\n",
      "   macro avg       0.67      0.65      0.66       154\n",
      "weighted avg       0.72      0.73      0.72       154\n",
      "\n"
     ]
    }
   ],
   "source": [
    "print(classification_report(y_test, y_pred8))"
   ]
  },
  {
   "cell_type": "code",
   "execution_count": 126,
   "metadata": {},
   "outputs": [],
   "source": [
    "## max_depth=12"
   ]
  },
  {
   "cell_type": "code",
   "execution_count": 139,
   "metadata": {},
   "outputs": [],
   "source": [
    "model9 = RandomForestClassifier(criterion=\"entropy\", max_depth=12).fit(x_train, y_train)"
   ]
  },
  {
   "cell_type": "code",
   "execution_count": 140,
   "metadata": {},
   "outputs": [],
   "source": [
    "y_pred9 = model9.predict(x_test)"
   ]
  },
  {
   "cell_type": "code",
   "execution_count": 141,
   "metadata": {},
   "outputs": [
    {
     "name": "stdout",
     "output_type": "stream",
     "text": [
      "[[95 14]\n",
      " [26 19]]\n"
     ]
    }
   ],
   "source": [
    "print(confusion_matrix(y_test, y_pred9))"
   ]
  },
  {
   "cell_type": "code",
   "execution_count": 142,
   "metadata": {},
   "outputs": [
    {
     "name": "stdout",
     "output_type": "stream",
     "text": [
      "              precision    recall  f1-score   support\n",
      "\n",
      "           0       0.79      0.87      0.83       109\n",
      "           1       0.58      0.42      0.49        45\n",
      "\n",
      "    accuracy                           0.74       154\n",
      "   macro avg       0.68      0.65      0.66       154\n",
      "weighted avg       0.72      0.74      0.73       154\n",
      "\n"
     ]
    }
   ],
   "source": [
    "print(classification_report(y_test, y_pred9))"
   ]
  },
  {
   "cell_type": "code",
   "execution_count": 177,
   "metadata": {},
   "outputs": [],
   "source": [
    "## max_depth=13"
   ]
  },
  {
   "cell_type": "code",
   "execution_count": 178,
   "metadata": {},
   "outputs": [],
   "source": [
    "model10 = RandomForestClassifier(criterion=\"entropy\", max_depth=13).fit(x_train, y_train)"
   ]
  },
  {
   "cell_type": "code",
   "execution_count": 179,
   "metadata": {},
   "outputs": [],
   "source": [
    "y_pred10 = model10.predict(x_test)"
   ]
  },
  {
   "cell_type": "code",
   "execution_count": 180,
   "metadata": {},
   "outputs": [
    {
     "name": "stdout",
     "output_type": "stream",
     "text": [
      "[[93 16]\n",
      " [27 18]]\n"
     ]
    }
   ],
   "source": [
    "print(confusion_matrix(y_test, y_pred10))"
   ]
  },
  {
   "cell_type": "code",
   "execution_count": 181,
   "metadata": {},
   "outputs": [
    {
     "name": "stdout",
     "output_type": "stream",
     "text": [
      "              precision    recall  f1-score   support\n",
      "\n",
      "           0       0.78      0.85      0.81       109\n",
      "           1       0.53      0.40      0.46        45\n",
      "\n",
      "    accuracy                           0.72       154\n",
      "   macro avg       0.65      0.63      0.63       154\n",
      "weighted avg       0.70      0.72      0.71       154\n",
      "\n"
     ]
    }
   ],
   "source": [
    "print(classification_report(y_test, y_pred10))"
   ]
  },
  {
   "cell_type": "code",
   "execution_count": 182,
   "metadata": {},
   "outputs": [],
   "source": [
    "## max_depth=16"
   ]
  },
  {
   "cell_type": "code",
   "execution_count": 183,
   "metadata": {},
   "outputs": [],
   "source": [
    "model11 = RandomForestClassifier(criterion=\"entropy\", max_depth=16).fit(x_train, y_train)"
   ]
  },
  {
   "cell_type": "code",
   "execution_count": 184,
   "metadata": {},
   "outputs": [],
   "source": [
    "y_pred11 = model11.predict(x_test)"
   ]
  },
  {
   "cell_type": "code",
   "execution_count": 185,
   "metadata": {},
   "outputs": [
    {
     "name": "stdout",
     "output_type": "stream",
     "text": [
      "[[94 15]\n",
      " [25 20]]\n"
     ]
    }
   ],
   "source": [
    "print(confusion_matrix(y_test, y_pred11))"
   ]
  },
  {
   "cell_type": "code",
   "execution_count": 186,
   "metadata": {},
   "outputs": [
    {
     "name": "stdout",
     "output_type": "stream",
     "text": [
      "              precision    recall  f1-score   support\n",
      "\n",
      "           0       0.79      0.86      0.82       109\n",
      "           1       0.57      0.44      0.50        45\n",
      "\n",
      "    accuracy                           0.74       154\n",
      "   macro avg       0.68      0.65      0.66       154\n",
      "weighted avg       0.73      0.74      0.73       154\n",
      "\n"
     ]
    }
   ],
   "source": [
    "print(classification_report(y_test, y_pred11))"
   ]
  }
 ],
 "metadata": {
  "kernelspec": {
   "display_name": "Python 3",
   "language": "python",
   "name": "python3"
  },
  "language_info": {
   "codemirror_mode": {
    "name": "ipython",
    "version": 3
   },
   "file_extension": ".py",
   "mimetype": "text/x-python",
   "name": "python",
   "nbconvert_exporter": "python",
   "pygments_lexer": "ipython3",
   "version": "3.8.5"
  }
 },
 "nbformat": 4,
 "nbformat_minor": 4
}
