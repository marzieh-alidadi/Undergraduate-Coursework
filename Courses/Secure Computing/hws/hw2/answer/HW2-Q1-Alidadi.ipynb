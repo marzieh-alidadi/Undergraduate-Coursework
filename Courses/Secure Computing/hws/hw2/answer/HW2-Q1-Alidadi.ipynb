{
 "cells": [
  {
   "cell_type": "code",
   "execution_count": 1,
   "metadata": {},
   "outputs": [],
   "source": [
    "ALPHABET = \"ABCDEFGHIJKLMNOPQRSTUVWXYZ\"\n",
    "SPECIAL_CHARS = \" ,.-;:_?!=\"\n",
    "\n",
    "def decrypt(cipher_text):\n",
    "    key = find_key_from_cipher(cipher_text)\n",
    "    plain_text = \"\"\n",
    "    for letter in cipher_text:\n",
    "        if letter in SPECIAL_CHARS:\n",
    "            plain_text += letter\n",
    "            continue\n",
    "        index = ALPHABET.find(letter.upper())\n",
    "        new_index = flatten(index - key)\n",
    "        plain_text += ALPHABET[new_index]\n",
    "    return plain_text\n",
    "\n",
    "def flatten(number) :\n",
    "    return number - (26*(number//26))\n",
    "\n",
    "def find_key_from_cipher(cipher_text):\n",
    "    index_of_most_common_letter = 0 #Index of 'e' then 'a' then 'r' , 'i' , ...\n",
    "    distribution_dict = analyse_letter_distribution(cipher_text)\n",
    "    common_letters = sorted(distribution_dict, key=distribution_dict.get, reverse=True)\n",
    "    key = ALPHABET.find(common_letters[0].upper()) - index_of_most_common_letter\n",
    "    return key\n",
    "\n",
    "def analyse_letter_distribution(cipher_text):\n",
    "    distribution_dict = {}\n",
    "    for letter in cipher_text:\n",
    "        if letter in SPECIAL_CHARS:\n",
    "            continue\n",
    "        if letter not in distribution_dict:\n",
    "            distribution_dict[letter] = 1\n",
    "        else:\n",
    "            distribution_dict[letter] += 1\n",
    "    if len(distribution_dict.values()) != len(distribution_dict.values()):\n",
    "        print(\"Multiple letters appear the same amount of times! Uh oh.\")\n",
    "    return distribution_dict"
   ]
  },
  {
   "cell_type": "code",
   "execution_count": 2,
   "metadata": {},
   "outputs": [
    {
     "data": {
      "text/plain": [
       "'FAKENETFLIXAPPONPLAYSTORECAUGHTHIJACKINGWHATSAPPSESSIONS'"
      ]
     },
     "execution_count": 2,
     "metadata": {},
     "output_type": "execute_result"
    }
   ],
   "source": [
    "decrypt(\"KfpjSjykqncfuutsUqfdXytwjhfzlmymnofhpnslBmfyxFuuxjxxntsx\")"
   ]
  }
 ],
 "metadata": {
  "kernelspec": {
   "display_name": "Python 3",
   "language": "python",
   "name": "python3"
  },
  "language_info": {
   "codemirror_mode": {
    "name": "ipython",
    "version": 3
   },
   "file_extension": ".py",
   "mimetype": "text/x-python",
   "name": "python",
   "nbconvert_exporter": "python",
   "pygments_lexer": "ipython3",
   "version": "3.8.5"
  }
 },
 "nbformat": 4,
 "nbformat_minor": 4
}
